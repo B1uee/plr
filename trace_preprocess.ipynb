{
 "cells": [
  {
   "cell_type": "code",
   "execution_count": 1,
   "metadata": {},
   "outputs": [],
   "source": [
    "import numpy as np\n",
    "import pandas as pd\n",
    "import matplotlib.pyplot as plt"
   ]
  },
  {
   "cell_type": "markdown",
   "metadata": {},
   "source": [
    "_数据格式_\n",
    "```\n",
    "+ 0 0 2 tcp 40 ------- 1 0.0 3.0 0 0\n",
    "```\n",
    "1. 动作: “+”：Enqueue；“-”：Dequeue；“r”：Receive；\"d\"：Drop\n",
    "2. 时间\n",
    "3. from_node\n",
    "4. to_node\n",
    "5. 封包的类型\n",
    "6. 封包的大小（单位byte）\n",
    "7. 标记标注\n",
    "8. 属于哪个数据流\n",
    "9. 来源端\n",
    "10. 目的端\n",
    "11. sequence number\n",
    "12. ID\n",
    "\n",
    "ref: https://blog.csdn.net/yhdyy123/article/details/74027683\n"
   ]
  },
  {
   "cell_type": "code",
   "execution_count": 26,
   "metadata": {},
   "outputs": [
    {
     "data": {
      "text/plain": [
       "[[0.0, 1.0], [0.1281, 2.0], [0.25792, 3.0], [0.2591, 4.0], [0.38774, 5.0]]"
      ]
     },
     "execution_count": 26,
     "metadata": {},
     "output_type": "execute_result"
    }
   ],
   "source": [
    "file_path = \"trace/newreno/5/newreno.tr\"\n",
    "\n",
    "def load_ack(path):\n",
    "    with open(path, 'r') as f:\n",
    "        file_lines = f.readlines()\n",
    "    ack_seq=[]  #提取含字段 r 2 0的ack帧    \n",
    "    for line in file_lines:\n",
    "        line = line.strip().split()\n",
    "        if line[4] != \"ack\" or line[2] != '2' or line[3] != '0':\n",
    "            continue\n",
    "        ack_seq.append([line[0], float(line[1]), int(line[10])])\n",
    "        \n",
    "    return ack_seq\n",
    "\n",
    "def load_tcp(path):\n",
    "    with open(path, 'r') as f:\n",
    "        file_lines = f.readlines()\n",
    "    tcp_seq=[]  #提取含字段 r 2 0的ack帧    \n",
    "    for line in file_lines:\n",
    "        line = line.strip().split()\n",
    "        if line[4] != \"tcp\" or line[2] != '0' or line[3] != '2':\n",
    "            continue\n",
    "        tcp_seq.append([line[0], float(line[1]), int(line[10])])\n",
    "        \n",
    "    return tcp_seq\n",
    "\n",
    "def load_cwd(path):\n",
    "    with open(path, 'r') as f:\n",
    "        file_lines = f.readlines()\n",
    "    cwd_seq=[]  #提取含字段 r 2 0的ack帧    \n",
    "    for i in range(len(file_lines)):\n",
    "        line = file_lines[i]\n",
    "        line = line.strip().split()\n",
    "        if line[5] != \"cwnd_\":\n",
    "            continue\n",
    "        cwd_seq.append([float(line[0]), float(line[6])])\n",
    "        \n",
    "    return cwd_seq\n",
    "\n",
    "ack_seq = load_ack(file_path)\n",
    "tcp_seq = load_tcp(file_path)\n",
    "cwd_seq = load_cwd(file_path)\n",
    "cwd_seq[0:5]"
   ]
  },
  {
   "cell_type": "code",
   "execution_count": 34,
   "metadata": {},
   "outputs": [
    {
     "name": "stdout",
     "output_type": "stream",
     "text": [
      "[0.128096 1.      ] [0.128096 0.      ]\n"
     ]
    }
   ],
   "source": [
    "def get_tcp_enqueue(tcp_seq):\n",
    "    tcp_enqueue_seq = []\n",
    "    for item in tcp_seq:\n",
    "        if item[0] != '+':\n",
    "            continue\n",
    "        tcp_enqueue_seq.append([item[1], item[2]])\n",
    "    return np.array(tcp_enqueue_seq)\n",
    "\n",
    "def get_ack_receive(ack_seq):\n",
    "    ack_receive_seq = []\n",
    "    for item in ack_seq:\n",
    "        if item[0] != 'r':\n",
    "            continue\n",
    "        ack_receive_seq.append([item[1], item[2]])\n",
    "    return np.array(ack_receive_seq)\n",
    "\n",
    "tcp_enqueue_seq = get_tcp_enqueue(tcp_seq)\n",
    "ack_receive_seq = get_ack_receive(ack_seq)\n",
    "print(tcp_enqueue_seq[1], ack_receive_seq[0])"
   ]
  },
  {
   "cell_type": "code",
   "execution_count": 5,
   "metadata": {},
   "outputs": [],
   "source": [
    "def draw_plot(data1, label1, data2=None, label2=None, plot_title=\"Plot\", save_fig=False):\n",
    "    fig = plt.figure(figsize=(16,6))\n",
    "    plt.plot(data1[:,0],data1[:,1],alpha=0.8,color='red',label=label1)\n",
    "    if data2 is not None:\n",
    "        plt.plot(data2[:,0],data2[:,1],alpha=0.8,color='blue',label=label2)\n",
    "    plt.title(plot_title)\n",
    "    plt.legend(loc='best')\n",
    "    plt.xlabel(\"time\")\n",
    "    plt.ylabel(\"sequence number\")\n",
    "    plt.show()\n",
    "    if save_fig:\n",
    "        plt.savefig(plot_title+'.png')\n"
   ]
  },
  {
   "cell_type": "code",
   "execution_count": 63,
   "metadata": {},
   "outputs": [
    {
     "name": "stdout",
     "output_type": "stream",
     "text": [
      "309.0\n",
      "(167, 2)\n",
      "1.0\n",
      "(0,)\n",
      "155.001\n",
      "(0,)\n",
      "155.0\n",
      "(0,)\n"
     ]
    },
    {
     "name": "stderr",
     "output_type": "stream",
     "text": [
      "E:\\Anaconda\\lib\\site-packages\\ipykernel_launcher.py:18: VisibleDeprecationWarning: Creating an ndarray from ragged nested sequences (which is a list-or-tuple of lists-or-tuples-or ndarrays with different lengths or shapes) is deprecated. If you meant to do this, you must specify 'dtype=object' when creating the ndarray.\n"
     ]
    }
   ],
   "source": [
    "def find_retr(cwd_seq, tcp_enqueue_seq, time_range=0.1):\n",
    "    retr_seq = []\n",
    "    pre = cwd_seq[0]\n",
    "    idx = 0\n",
    "    for i in range(len(cwd_seq)):\n",
    "        if pre[1] > cwd_seq[i][1]: #降窗\n",
    "            print(cwd_seq[i][1])\n",
    "            tm = round(cwd_seq[i][0],3)\n",
    "            tmp_seq = []\n",
    "            while idx < len(tcp_enqueue_seq):\n",
    "                if tcp_enqueue_seq[idx][0] > tm - time_range and tcp_enqueue_seq[idx][0] < tm + time_range:\n",
    "                    tmp_seq.append([tcp_enqueue_seq[idx][0], tcp_enqueue_seq[idx][1]])\n",
    "                idx += 1\n",
    "            tmp_seq=np.array(tmp_seq)\n",
    "            print(tmp_seq.shape)\n",
    "            retr_seq.append(np.array(tmp_seq))\n",
    "        pre = cwd_seq[i]\n",
    "    return  np.array(retr_seq)\n",
    "\n",
    "retr_seq = find_retr(cwd_seq, tcp_enqueue_seq)"
   ]
  },
  {
   "cell_type": "code",
   "execution_count": 59,
   "metadata": {},
   "outputs": [
    {
     "name": "stdout",
     "output_type": "stream",
     "text": [
      "(4,)\n"
     ]
    }
   ],
   "source": [
    "print(retr_seq.shape)"
   ]
  },
  {
   "cell_type": "code",
   "execution_count": 60,
   "metadata": {},
   "outputs": [
    {
     "data": {
      "image/png": "[encoded data removed]",
      "text/plain": [
       "<Figure size 1152x432 with 1 Axes>"
      ]
     },
     "metadata": {
      "needs_background": "light"
     },
     "output_type": "display_data"
    },
    {
     "ename": "IndexError",
     "evalue": "too many indices for array: array is 1-dimensional, but 2 were indexed",
     "output_type": "error",
     "traceback": [
      "\u001b[1;31m---------------------------------------------------------------------------\u001b[0m",
      "\u001b[1;31mIndexError\u001b[0m                                Traceback (most recent call last)",
      "\u001b[1;32m<ipython-input-60-b4e03c15f731>\u001b[0m in \u001b[0;36m<module>\u001b[1;34m\u001b[0m\n\u001b[0;32m      1\u001b[0m \u001b[1;32mfor\u001b[0m \u001b[0mitem\u001b[0m \u001b[1;32min\u001b[0m \u001b[0mretr_seq\u001b[0m\u001b[1;33m:\u001b[0m\u001b[1;33m\u001b[0m\u001b[1;33m\u001b[0m\u001b[0m\n\u001b[1;32m----> 2\u001b[1;33m     \u001b[0mdraw_plot\u001b[0m\u001b[1;33m(\u001b[0m\u001b[0mitem\u001b[0m\u001b[1;33m,\u001b[0m \u001b[1;34m\"tcp_enqueue_seq\"\u001b[0m\u001b[1;33m,\u001b[0m \u001b[0mplot_title\u001b[0m\u001b[1;33m=\u001b[0m\u001b[1;34m\"Retransmission\"\u001b[0m\u001b[1;33m)\u001b[0m\u001b[1;33m\u001b[0m\u001b[1;33m\u001b[0m\u001b[0m\n\u001b[0m",
      "\u001b[1;32m<ipython-input-5-5948c963dff8>\u001b[0m in \u001b[0;36mdraw_plot\u001b[1;34m(data1, label1, data2, label2, plot_title, save_fig)\u001b[0m\n\u001b[0;32m      1\u001b[0m \u001b[1;32mdef\u001b[0m \u001b[0mdraw_plot\u001b[0m\u001b[1;33m(\u001b[0m\u001b[0mdata1\u001b[0m\u001b[1;33m,\u001b[0m \u001b[0mlabel1\u001b[0m\u001b[1;33m,\u001b[0m \u001b[0mdata2\u001b[0m\u001b[1;33m=\u001b[0m\u001b[1;32mNone\u001b[0m\u001b[1;33m,\u001b[0m \u001b[0mlabel2\u001b[0m\u001b[1;33m=\u001b[0m\u001b[1;32mNone\u001b[0m\u001b[1;33m,\u001b[0m \u001b[0mplot_title\u001b[0m\u001b[1;33m=\u001b[0m\u001b[1;34m\"Plot\"\u001b[0m\u001b[1;33m,\u001b[0m \u001b[0msave_fig\u001b[0m\u001b[1;33m=\u001b[0m\u001b[1;32mFalse\u001b[0m\u001b[1;33m)\u001b[0m\u001b[1;33m:\u001b[0m\u001b[1;33m\u001b[0m\u001b[1;33m\u001b[0m\u001b[0m\n\u001b[0;32m      2\u001b[0m     \u001b[0mfig\u001b[0m \u001b[1;33m=\u001b[0m \u001b[0mplt\u001b[0m\u001b[1;33m.\u001b[0m\u001b[0mfigure\u001b[0m\u001b[1;33m(\u001b[0m\u001b[0mfigsize\u001b[0m\u001b[1;33m=\u001b[0m\u001b[1;33m(\u001b[0m\u001b[1;36m16\u001b[0m\u001b[1;33m,\u001b[0m\u001b[1;36m6\u001b[0m\u001b[1;33m)\u001b[0m\u001b[1;33m)\u001b[0m\u001b[1;33m\u001b[0m\u001b[1;33m\u001b[0m\u001b[0m\n\u001b[1;32m----> 3\u001b[1;33m     \u001b[0mplt\u001b[0m\u001b[1;33m.\u001b[0m\u001b[0mplot\u001b[0m\u001b[1;33m(\u001b[0m\u001b[0mdata1\u001b[0m\u001b[1;33m[\u001b[0m\u001b[1;33m:\u001b[0m\u001b[1;33m,\u001b[0m\u001b[1;36m0\u001b[0m\u001b[1;33m]\u001b[0m\u001b[1;33m,\u001b[0m\u001b[0mdata1\u001b[0m\u001b[1;33m[\u001b[0m\u001b[1;33m:\u001b[0m\u001b[1;33m,\u001b[0m\u001b[1;36m1\u001b[0m\u001b[1;33m]\u001b[0m\u001b[1;33m,\u001b[0m\u001b[0malpha\u001b[0m\u001b[1;33m=\u001b[0m\u001b[1;36m0.8\u001b[0m\u001b[1;33m,\u001b[0m\u001b[0mcolor\u001b[0m\u001b[1;33m=\u001b[0m\u001b[1;34m'red'\u001b[0m\u001b[1;33m,\u001b[0m\u001b[0mlabel\u001b[0m\u001b[1;33m=\u001b[0m\u001b[0mlabel1\u001b[0m\u001b[1;33m)\u001b[0m\u001b[1;33m\u001b[0m\u001b[1;33m\u001b[0m\u001b[0m\n\u001b[0m\u001b[0;32m      4\u001b[0m     \u001b[1;32mif\u001b[0m \u001b[0mdata2\u001b[0m \u001b[1;32mis\u001b[0m \u001b[1;32mnot\u001b[0m \u001b[1;32mNone\u001b[0m\u001b[1;33m:\u001b[0m\u001b[1;33m\u001b[0m\u001b[1;33m\u001b[0m\u001b[0m\n\u001b[0;32m      5\u001b[0m         \u001b[0mplt\u001b[0m\u001b[1;33m.\u001b[0m\u001b[0mplot\u001b[0m\u001b[1;33m(\u001b[0m\u001b[0mdata2\u001b[0m\u001b[1;33m[\u001b[0m\u001b[1;33m:\u001b[0m\u001b[1;33m,\u001b[0m\u001b[1;36m0\u001b[0m\u001b[1;33m]\u001b[0m\u001b[1;33m,\u001b[0m\u001b[0mdata2\u001b[0m\u001b[1;33m[\u001b[0m\u001b[1;33m:\u001b[0m\u001b[1;33m,\u001b[0m\u001b[1;36m1\u001b[0m\u001b[1;33m]\u001b[0m\u001b[1;33m,\u001b[0m\u001b[0malpha\u001b[0m\u001b[1;33m=\u001b[0m\u001b[1;36m0.8\u001b[0m\u001b[1;33m,\u001b[0m\u001b[0mcolor\u001b[0m\u001b[1;33m=\u001b[0m\u001b[1;34m'blue'\u001b[0m\u001b[1;33m,\u001b[0m\u001b[0mlabel\u001b[0m\u001b[1;33m=\u001b[0m\u001b[0mlabel2\u001b[0m\u001b[1;33m)\u001b[0m\u001b[1;33m\u001b[0m\u001b[1;33m\u001b[0m\u001b[0m\n",
      "\u001b[1;31mIndexError\u001b[0m: too many indices for array: array is 1-dimensional, but 2 were indexed"
     ]
    },
    {
     "data": {
      "text/plain": [
       "<Figure size 1152x432 with 0 Axes>"
      ]
     },
     "metadata": {},
     "output_type": "display_data"
    }
   ],
   "source": [
    "for item in retr_seq:\n",
    "    draw_plot(item, \"tcp_enqueue_seq\", plot_title=\"Retransmission\")"
   ]
  }
 ],
 "metadata": {
  "interpreter": {
   "hash": "96eb50e1d44aed467dc8f759cb08c32fbfa9babcf79c554e2d0e5feb04653a10"
  },
  "kernelspec": {
   "display_name": "Python 3.7.6 ('base')",
   "language": "python",
   "name": "python3"
  },
  "language_info": {
   "codemirror_mode": {
    "name": "ipython",
    "version": 3
   },
   "file_extension": ".py",
   "mimetype": "text/x-python",
   "name": "python",
   "nbconvert_exporter": "python",
   "pygments_lexer": "ipython3",
   "version": "3.7.6"
  },
  "orig_nbformat": 4
 },
 "nbformat": 4,
 "nbformat_minor": 2
}
