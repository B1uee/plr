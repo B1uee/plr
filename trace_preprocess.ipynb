{
 "cells": [
  {
   "cell_type": "code",
   "execution_count": 121,
   "metadata": {},
   "outputs": [],
   "source": [
    "import numpy as np\n",
    "import pandas as pd\n",
    "import matplotlib.pyplot as plt\n",
    "import os\n",
    "from example import get_TurnPoint, bottomUp, merge_cost\n",
    "import math\n",
    "import numpy.linalg as LA"
   ]
  },
  {
   "attachments": {},
   "cell_type": "markdown",
   "metadata": {},
   "source": [
    "_数据格式_\n",
    "```\n",
    "+ 0 0 2 tcp 40 ------- 1 0.0 3.0 0 0\n",
    "```\n",
    "1. 动作: “+”：Enqueue；“-”：Dequeue；“r”：Receive；\"d\"：Drop\n",
    "2. 时间\n",
    "3. from_node\n",
    "4. to_node\n",
    "5. 封包的类型\n",
    "6. 封包的大小（单位byte）\n",
    "7. 标记标注\n",
    "8. 属于哪个数据流\n",
    "9. 来源端\n",
    "10. 目的端\n",
    "11. sequence number\n",
    "12. ID\n",
    "\n",
    "ref: https://blog.csdn.net/yhdyy123/article/details/74027683\n"
   ]
  },
  {
   "cell_type": "code",
   "execution_count": 2,
   "metadata": {},
   "outputs": [
    {
     "data": {
      "text/plain": [
       "[[0.0, 1.0], [0.1281, 2.0], [0.25792, 3.0], [0.2591, 4.0], [0.38774, 5.0]]"
      ]
     },
     "execution_count": 2,
     "metadata": {},
     "output_type": "execute_result"
    }
   ],
   "source": [
    "file_path = \"trace/newreno/5/newreno.tr\"\n",
    "\n",
    "def load_ack(path):\n",
    "    with open(path, 'r') as f:\n",
    "        file_lines = f.readlines()\n",
    "    ack_seq=[]  #提取含字段 r 2 0的ack帧    \n",
    "    for line in file_lines:\n",
    "        line = line.strip().split()\n",
    "        if line[4] != \"ack\" or line[2] != '2' or line[3] != '0':\n",
    "            continue\n",
    "        ack_seq.append([line[0], float(line[1]), int(line[10])])\n",
    "        \n",
    "    return ack_seq\n",
    "\n",
    "def load_tcp(path):\n",
    "    with open(path, 'r') as f:\n",
    "        file_lines = f.readlines()\n",
    "    tcp_seq=[]  #提取含字段 r 2 0的ack帧    \n",
    "    for line in file_lines:\n",
    "        line = line.strip().split()\n",
    "        if line[4] != \"tcp\" or line[2] != '0' or line[3] != '2':\n",
    "            continue\n",
    "        tcp_seq.append([line[0], float(line[1]), int(line[10])])\n",
    "        \n",
    "    return tcp_seq\n",
    "\n",
    "def load_cwd(path):\n",
    "    with open(path, 'r') as f:\n",
    "        file_lines = f.readlines()\n",
    "    cwd_seq=[]  #提取含字段 r 2 0的ack帧    \n",
    "    for i in range(len(file_lines)):\n",
    "        line = file_lines[i]\n",
    "        line = line.strip().split()\n",
    "        if line[5] != \"cwnd_\":\n",
    "            continue\n",
    "        cwd_seq.append([float(line[0]), float(line[6])])\n",
    "        \n",
    "    return cwd_seq\n",
    "\n",
    "ack_seq = load_ack(file_path)\n",
    "tcp_seq = load_tcp(file_path)\n",
    "cwd_seq = load_cwd(file_path)\n",
    "cwd_seq[0:5]"
   ]
  },
  {
   "cell_type": "code",
   "execution_count": 93,
   "metadata": {},
   "outputs": [
    {
     "name": "stdout",
     "output_type": "stream",
     "text": [
      "83071 82558\n"
     ]
    }
   ],
   "source": [
    "def get_tcp_enqueue(tcp_seq):\n",
    "    tcp_enqueue_seq = []\n",
    "    for item in tcp_seq:\n",
    "        if item[0] != '+':\n",
    "            continue\n",
    "        tcp_enqueue_seq.append([item[1], item[2]])\n",
    "    return np.array(tcp_enqueue_seq)\n",
    "\n",
    "def get_ack_receive(ack_seq):\n",
    "    ack_receive_seq = []\n",
    "    for item in ack_seq:\n",
    "        if item[0] != 'r':\n",
    "            continue\n",
    "        ack_receive_seq.append([item[1], item[2]])\n",
    "    return np.array(ack_receive_seq)\n",
    "\n",
    "tcp_enqueue_seq = get_tcp_enqueue(tcp_seq)\n",
    "ack_receive_seq = get_ack_receive(ack_seq)\n",
    "print(len(tcp_enqueue_seq), len(ack_receive_seq))"
   ]
  },
  {
   "cell_type": "code",
   "execution_count": 4,
   "metadata": {},
   "outputs": [],
   "source": [
    "def draw_plot(data1, label1, data2=None, label2=None, plot_title=\"Plot\", save_fig=False):\n",
    "    fig = plt.figure(figsize=(16,6))\n",
    "    plt.plot(data1[:,0],data1[:,1],alpha=0.8,color='red',label=label1)\n",
    "    if data2 is not None:\n",
    "        plt.plot(data2[:,0],data2[:,1],alpha=0.8,color='blue',label=label2)\n",
    "    plt.title(plot_title)\n",
    "    plt.legend(loc='best')\n",
    "    plt.xlabel(\"time\")\n",
    "    plt.ylabel(\"sequence number\")\n",
    "    plt.show()\n",
    "    if save_fig:\n",
    "        plt.savefig(plot_title+'.png')\n"
   ]
  },
  {
   "cell_type": "code",
   "execution_count": 89,
   "metadata": {},
   "outputs": [],
   "source": [
    "save_path = \"test/newreno\"\n",
    "if not os.path.exists(save_path):\n",
    "    os.makedirs(save_path)\n",
    "np.savetxt(os.path.join(save_path,'tcp_enqueue_seq.txt'), np.asarray(tcp_enqueue_seq),fmt='%.8f %.6f')\n",
    "np.savetxt(os.path.join(save_path,'ack_receive_seq.txt'), np.asarray(ack_receive_seq),fmt='%.8f %.6f')"
   ]
  },
  {
   "cell_type": "code",
   "execution_count": 51,
   "metadata": {},
   "outputs": [],
   "source": [
    "def find_retr(cwd_seq, tcp_enqueue_seq, time_range=0.25):\n",
    "    retr_seq = []\n",
    "    pre = cwd_seq[0]\n",
    "    idx = 0\n",
    "    for i in range(len(cwd_seq)):\n",
    "        if pre[1] > cwd_seq[i][1]: #降窗\n",
    "            tm = round(cwd_seq[i][0],3)\n",
    "            print(tm)\n",
    "            tmp_seq = []\n",
    "            while idx < len(tcp_enqueue_seq):\n",
    "                if tcp_enqueue_seq[idx][0] > tm - time_range and tcp_enqueue_seq[idx][0] < tm + time_range:\n",
    "                    tmp_seq.append([tcp_enqueue_seq[idx][0], tcp_enqueue_seq[idx][1]])\n",
    "                elif tcp_enqueue_seq[idx][0] > tm + time_range:\n",
    "                    break\n",
    "                idx += 1\n",
    "            tmp_seq=np.array(tmp_seq)\n",
    "            retr_seq.append(tmp_seq)\n",
    "        pre = cwd_seq[i]\n",
    "    return  retr_seq\n",
    "\n",
    "retr_seq = find_retr(cwd_seq, tcp_enqueue_seq)"
   ]
  },
  {
   "cell_type": "code",
   "execution_count": 55,
   "metadata": {},
   "outputs": [
    {
     "name": "stdout",
     "output_type": "stream",
     "text": [
      "(421, 2)\n"
     ]
    },
    {
     "data": {
      "image/png": "[encoded data removed]",
      "text/plain": [
       "<Figure size 1152x432 with 1 Axes>"
      ]
     },
     "metadata": {
      "needs_background": "light"
     },
     "output_type": "display_data"
    }
   ],
   "source": [
    "for item in retr_seq:\n",
    "    print(item.shape)\n",
    "    draw_plot(item, \"tcp_enqueue_seq\", plot_title=\"Retransmission\")\n",
    "    break"
   ]
  },
  {
   "cell_type": "code",
   "execution_count": 64,
   "metadata": {},
   "outputs": [
    {
     "data": {
      "image/png": "[encoded data removed]",
      "text/plain": [
       "<Figure size 1152x432 with 1 Axes>"
      ]
     },
     "metadata": {
      "needs_background": "light"
     },
     "output_type": "display_data"
    }
   ],
   "source": [
    "draw_plot(tcp_enqueue_seq[100:200], \"tcp_enqueue_seq\", ack_receive_seq[100:200], \"ack_receive_seq\", plot_title=\"TCP & ACK\")"
   ]
  },
  {
   "cell_type": "code",
   "execution_count": 103,
   "metadata": {},
   "outputs": [
    {
     "data": {
      "text/plain": [
       "[[0.0, 0.128096, 0.0, 0.128096],\n",
       " [1.0, 0.129824, 0.128096, 0.25792],\n",
       " [2.0, 0.131008, 0.128096, 0.259104],\n",
       " [3.0, 0.129824, 0.25792, 0.387744],\n",
       " [4.0, 0.131008, 0.25792, 0.388928]]"
      ]
     },
     "execution_count": 103,
     "metadata": {},
     "output_type": "execute_result"
    }
   ],
   "source": [
    "def cal_rtt(tcp_enqueue_seq, ack_receive_seq): #计算rtt\n",
    "    '''\n",
    "    :return rtt_list: 元素格式 [seq_num, rtt, tcp_time, ack_time]\n",
    "    '''\n",
    "    arr_list = [tcp_enqueue_seq, ack_receive_seq]\n",
    "    dict_list = []\n",
    "    for arr in arr_list:\n",
    "        dict = {}\n",
    "        for row in arr:\n",
    "            index = row[1]\n",
    "            time = row[0]\n",
    "            if index not in dict:\n",
    "                dict[index] = []\n",
    "            dict[index].append(time)\n",
    "        dict_list.append(dict)\n",
    "    rtt_list = []\n",
    "    for index in dict_list[0]:\n",
    "        if index in dict_list[1]:\n",
    "            times1 = dict_list[0][index]\n",
    "            times2 =dict_list[1][index]\n",
    "            for i in range(min(len(times1), len(times2))):\n",
    "                rtt_list.append([index, abs(times1[i] - times2[i]), times1[i], times2[i]])\n",
    "    return rtt_list\n",
    "rtt_list = cal_rtt(tcp_enqueue_seq, ack_receive_seq)\n",
    "rtt_list[0:5]"
   ]
  },
  {
   "cell_type": "code",
   "execution_count": 108,
   "metadata": {},
   "outputs": [
    {
     "data": {
      "text/plain": [
       "[[0.128096, 2.0],\n",
       " [0.25792, 3.0],\n",
       " [0.259104, 4.0],\n",
       " [0.387744, 5.0],\n",
       " [0.388928, 6.0]]"
      ]
     },
     "execution_count": 108,
     "metadata": {},
     "output_type": "execute_result"
    }
   ],
   "source": [
    "def cal_cap(tcp_enqueue_seq, ack_receive_seq): #计算容量\n",
    "    '''\n",
    "    :return cap_list: 元素格式 [time, cap]\n",
    "    '''\n",
    "    cap_list = []\n",
    "    dict1 = {k: v for k, v in tcp_enqueue_seq}\n",
    "    dict2 = {k: v for k, v in ack_receive_seq}\n",
    "    for k in dict1:\n",
    "        if k in dict2:\n",
    "            cap_list.append([k, abs(dict1[k] - dict2[k])])\n",
    "    return cap_list\n",
    "cap_list = cal_cap(tcp_enqueue_seq, ack_receive_seq)\n",
    "cap_list[0:5]"
   ]
  },
  {
   "cell_type": "code",
   "execution_count": 173,
   "metadata": {},
   "outputs": [],
   "source": [
    "def get_TurnPoint(data, angle_thred):\n",
    "    ''' \n",
    "    :paras data:时间序列数据\n",
    "    :paras angle_thred: 判定其是否为转折点的角度阈值\n",
    " \n",
    "    :return turnPoints: 预选的转折点\n",
    "    '''\n",
    "    turnPoints = []\n",
    "    for index in range(1, len(data)-1):\n",
    "        # 这里存在一个隐性的 时间序列采样是否均匀 的问题 \n",
    "        # 这里如果时间采样不均匀，记得将 atan() 中的数据除以对应时间差\n",
    "        theta1 = math.atan((data[index][1] - data[index - 1][1])/(data[index][0] - data[index - 1][0])) * (180 / math.pi)\n",
    "        theta2 = math.atan((data[index + 1][1] - data[index][1])/(data[index + 1][0] - data[index][0])) * (180 / math.pi)\n",
    "        if theta1 * theta2 < 0:\n",
    "            alpha = abs(theta1) + abs(theta2)\n",
    "        else:\n",
    "            alpha = abs(theta1 - theta2)\n",
    "        if alpha > angle_thred:\n",
    "            turnPoints.append(index)\n",
    "    turnPoints.insert(0, 0)\n",
    "    turnPoints.append(len(data)-1)\n",
    "    return turnPoints\n",
    "\n",
    "def merge_cost(data, merge_start, merge_end):\n",
    "    ''' \n",
    "    本方法使用 least-squares solution to a linear matrix equation 方法进行直线拟合。\n",
    "    同时获得拟合误差。\n",
    "    调用 numpy.linalg.lstsq() 方法\n",
    "    :param data: 时间序列数据\n",
    "    :param merge_start: 合并起始点\n",
    "    :param merge_end: 合并终点\n",
    " \n",
    "    :return error: 合并产生的误差\n",
    "    '''\n",
    "    x = np.array(data[merge_start:merge_end+1, 0])\n",
    "    y = np.array(data[merge_start:merge_end+1, 1])\n",
    "    A = np.ones((len(x), 2), np.float64)\n",
    "    A[:,0] = x\n",
    "    try:\n",
    "        (result, residual, rank, s) = LA.lstsq(A, y, rcond=None) #回归系数、残差平方和、自变量X的秩、X的奇异值\n",
    "        error = math.sqrt(residual[0])\n",
    "\n",
    "    except np.linalg.LinAlgError:\n",
    "        error = 0.0\n",
    "    except IndexError:\n",
    "        error = 0.0\n",
    " \n",
    "    return error, result\n",
    "\n",
    "def bottomUp(data, type_name, turn_points, error_thred, error_estimator=merge_cost):\n",
    "    ''' \n",
    "    :param data: 时间序列数据\n",
    "    :param turn_points: 转折点数据\n",
    "    :param error_thred: 融合过程中的误差阈值, 超过阈值后, 融合停止\n",
    "    :param error_estimator: 融合过程中的误差估计方法\n",
    " \n",
    "    :return segments\n",
    "    '''\n",
    "    index = 0\n",
    "    segments = [turn_points[0]] # 加入起始的开始点\n",
    "    plr_data = [] # 插值成完整时间序列，方便后续比对\n",
    "    len_turnPoints = len(turn_points) - 1\n",
    "    cnt = 0\n",
    "    while index < len_turnPoints:\n",
    "        start = index\n",
    "        end = index + 1\n",
    "        error, ratio = error_estimator(data, turn_points[start], turn_points[end])\n",
    "        while error < error_thred:\n",
    "            end += 1\n",
    "            if not (end < len_turnPoints): \n",
    "                end = len_turnPoints\n",
    "                break\n",
    "            error, ratio = error_estimator(data, turn_points[start], turn_points[end])\n",
    "        segments.append(turn_points[end])\n",
    "        x_range = data[turn_points[start]:turn_points[end], 0]\n",
    "        pre_seq = data[turn_points[start]:turn_points[end], 1]\n",
    "        tmp_data = np.c_[np.full((len(x_range,)), type_name), x_range, pre_seq, ratio[0]*x_range+ratio[1], np.full((len(x_range,)), cnt), np.full((len(x_range,)), ratio[0])]\n",
    "        plr_data.extend(tmp_data.tolist())\n",
    "        index = end\n",
    "        cnt += 1\n",
    "        last_ratio = ratio[0]\n",
    "    plr_data.append([type_name, data[-1][0], data[-1][1], data[-1][1], last_ratio, cnt])\n",
    "    return segments, plr_data\n",
    "\n",
    "def plr(raw_data, type_name, angle_thred=0.1, error_thred=1e-3):\n",
    "    ''' \n",
    "    :param angle_thred: 判定其是否为转折点的角度阈值\n",
    "    :param error_thred: 融合过程中的误差阈值, 超过阈值后, 融合停止\n",
    " \n",
    "    :return segments: 分割点序列\n",
    "    :return plr_data: 线性插值补充后的序列（与原数据维度一致，方便进行对比）\n",
    "    '''\n",
    "    turn_points = get_TurnPoint(raw_data, angle_thred)\n",
    "    segments, plr_data = bottomUp(raw_data, type_name, turn_points, error_thred, merge_cost) \n",
    "    draw_plot(raw_data, \"raw_data\", raw_data[segments], \"segments\", \"RawData & Segments with {}_{}\".format(angle_thred, error_thred))\n",
    "    save_path = \"test/newreno\"\n",
    "    if not os.path.exists(save_path):\n",
    "        os.makedirs(save_path)\n",
    "    np.savetxt(os.path.join(save_path,'{}__plrdata_{}_{}.txt'.format(type_name, angle_thred, error_thred)), np.asarray(plr_data),fmt='%s %s %s %s %s %s')\n",
    "    #转换的时候因为第一列加了str类型，后面也全变str了..，读的时候记得转换\n",
    "    #np.savetxt(os.path.join(save_path,'{}__plrdata_{}_{}.txt'.format(type_name, angle_thred, error_thred)), np.asarray(plr_data),fmt='%d %.8f %d %.6f %d %.6f')\n",
    "    np.savetxt(os.path.join(save_path,'{}_segments_{}_{}.txt'.format(type_name, angle_thred, error_thred)), np.asarray(raw_data[segments]),fmt='%.8f %.6f')\n",
    "    return segments, plr_data"
   ]
  },
  {
   "cell_type": "code",
   "execution_count": null,
   "metadata": {},
   "outputs": [],
   "source": [
    "\n",
    "def get_ack_inputs(raw_data, type_name=\"ack\", angle_thred=0.1, error_thred=1e-3):\n",
    "    ''' \n",
    "    :param raw_data: ack_receive_seq\n",
    "    :param angle_thred: 判定其是否为转折点的角度阈值\n",
    "    :param angle_thred: 判定其是否为转折点的角度阈值\n",
    "    :param error_thred: 融合过程中的误差阈值, 超过阈值后, 融合停止\n",
    " \n",
    "    :ack_segments.txt: 分割点[time, seq] 构成的数据集\n",
    "    :ack_inputs.txt: 插值后 [type, time, seq, plr_seq, 分段相对位置, 斜率] 构成的数据集\n",
    "    '''\n",
    "    turn_points = get_TurnPoint(raw_data, angle_thred)\n",
    "    segments, plr_data = bottomUp(raw_data, type_name, turn_points, error_thred, merge_cost) \n",
    "    draw_plot(raw_data, \"raw_data\", raw_data[segments], \"segments\", \"RawData & Segments with {}_{}\".format(angle_thred, error_thred))\n",
    "    save_path = \"test/newreno\"\n",
    "    if not os.path.exists(save_path):\n",
    "        os.makedirs(save_path)\n",
    "    np.savetxt(os.path.join(save_path,'{}_inputs_{}_{}.txt'.format(type_name, angle_thred, error_thred)), np.asarray(plr_data),fmt='%s %s %s %s %s %s')\n",
    "    #转换的时候因为第一列加了str类型，后面也全变str了..，读的时候记得转换\n",
    "    #np.savetxt(os.path.join(save_path,'{}__plrdata_{}_{}.txt'.format(type_name, angle_thred, error_thred)), np.asarray(plr_data),fmt='%d %.8f %d %.6f %d %.6f')\n",
    "    np.savetxt(os.path.join(save_path,'{}_segments_{}_{}.txt'.format(type_name, angle_thred, error_thred)), np.asarray(raw_data[segments]),fmt='%.8f %.6f')\n",
    "    return\n",
    "\n",
    "get_ack_inputs(ack_receive_seq)"
   ]
  },
  {
   "cell_type": "code",
   "execution_count": 175,
   "metadata": {},
   "outputs": [
    {
     "name": "stderr",
     "output_type": "stream",
     "text": [
      "e:\\Anaconda\\lib\\site-packages\\ipykernel_launcher.py:13: RuntimeWarning: divide by zero encountered in double_scalars\n",
      "  del sys.path[0]\n",
      "e:\\Anaconda\\lib\\site-packages\\ipykernel_launcher.py:12: RuntimeWarning: divide by zero encountered in double_scalars\n",
      "  if sys.path[0] == '':\n"
     ]
    },
    {
     "data": {
      "image/png": "[encoded data removed]",
      "text/plain": [
       "<Figure size 1152x432 with 1 Axes>"
      ]
     },
     "metadata": {
      "needs_background": "light"
     },
     "output_type": "display_data"
    }
   ],
   "source": [
    "def get_seq_input(tcp_enqueue_seq):\n",
    "    ''' \n",
    "    :param raw_data: get_receive_seq\n",
    "    :param angle_thred: 判定其是否为转折点的角度阈值\n",
    "    :param angle_thred: 判定其是否为转折点的角度阈值\n",
    "    :param error_thred: 融合过程中的误差阈值, 超过阈值后, 融合停止\n",
    " \n",
    "    :seq_segments.txt: tcp_enqueue_seq中的分割点 [time, seq] 构成的数据集\n",
    "    :seq_inputs.txt: 插值后 [type, time, seq, plr_seq, 分段相对位置, 斜率, 网络容量, rtt] 构成的数据集\n",
    "    '''\n",
    "    turn_points = get_TurnPoint(raw_data, angle_thred)\n",
    "    segments, plr_data = bottomUp(raw_data, type_name, turn_points, error_thred, merge_cost) \n",
    "    draw_plot(raw_data, \"raw_data\", raw_data[segments], \"segments\", \"RawData & Segments with {}_{}\".format(angle_thred, error_thred))\n",
    "    save_path = \"test/newreno\"\n",
    "    if not os.path.exists(save_path):\n",
    "        os.makedirs(save_path)\n",
    "    np.savetxt(os.path.join(save_path,'{}_inputs_{}_{}.txt'.format(type_name, angle_thred, error_thred)), np.asarray(plr_data),fmt='%s %s %s %s %s %s')\n",
    "    #转换的时候因为第一列加了str类型，后面也全变str了..，读的时候记得转换\n",
    "    #np.savetxt(os.path.join(save_path,'{}__plrdata_{}_{}.txt'.format(type_name, angle_thred, error_thred)), np.asarray(plr_data),fmt='%d %.8f %d %.6f %d %.6f')\n",
    "    np.savetxt(os.path.join(save_path,'{}_segments_{}_{}.txt'.format(type_name, angle_thred, error_thred)), np.asarray(raw_data[segments]),fmt='%.8f %.6f')\n",
    "    return\n",
    "\n",
    "def get_reseq_input(tcp_enqueue_seq):\n",
    "    "
   ]
  },
  {
   "cell_type": "code",
   "execution_count": null,
   "metadata": {},
   "outputs": [],
   "source": []
  }
 ],
 "metadata": {
  "interpreter": {
   "hash": "96eb50e1d44aed467dc8f759cb08c32fbfa9babcf79c554e2d0e5feb04653a10"
  },
  "kernelspec": {
   "display_name": "Python 3.7.6 ('base')",
   "language": "python",
   "name": "python3"
  },
  "language_info": {
   "codemirror_mode": {
    "name": "ipython",
    "version": 3
   },
   "file_extension": ".py",
   "mimetype": "text/x-python",
   "name": "python",
   "nbconvert_exporter": "python",
   "pygments_lexer": "ipython3",
   "version": "3.7.6"
  },
  "orig_nbformat": 4
 },
 "nbformat": 4,
 "nbformat_minor": 2
}
