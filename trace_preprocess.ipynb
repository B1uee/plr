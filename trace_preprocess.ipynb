{
 "cells": [
  {
   "cell_type": "code",
   "execution_count": 1,
   "metadata": {},
   "outputs": [],
   "source": [
    "import numpy as np\n",
    "import pandas as pd\n",
    "import matplotlib.pyplot as plt"
   ]
  },
  {
   "cell_type": "markdown",
   "metadata": {},
   "source": [
    "_数据格式_\n",
    "```\n",
    "+ 0 0 2 tcp 40 ------- 1 0.0 3.0 0 0\n",
    "```\n",
    "1. 动作: “+”：Enqueue；“-”：Dequeue；“r”：Receive；\"d\"：Drop\n",
    "2. 时间\n",
    "3. from_node\n",
    "4. to_node\n",
    "5. 封包的类型\n",
    "6. 封包的大小（单位byte）\n",
    "7. 标记标注\n",
    "8. 属于哪个数据流\n",
    "9. 来源端\n",
    "10. 目的端\n",
    "11. sequence number\n",
    "12. ID\n",
    "\n",
    "ref: https://blog.csdn.net/yhdyy123/article/details/74027683\n"
   ]
  },
  {
   "cell_type": "code",
   "execution_count": 34,
   "metadata": {},
   "outputs": [
    {
     "data": {
      "text/plain": [
       "[[0.0, 1.0], [0.1281, 2.0], [0.25792, 3.0], [0.2591, 4.0], [0.38774, 5.0]]"
      ]
     },
     "execution_count": 34,
     "metadata": {},
     "output_type": "execute_result"
    }
   ],
   "source": [
    "file_path = \"trace/newreno/5/newreno.tr\"\n",
    "\n",
    "def load_ack(path):\n",
    "    with open(path, 'r') as f:\n",
    "        file_lines = f.readlines()\n",
    "    ack_seq=[]  #提取含字段 r 2 0的ack帧    \n",
    "    for line in file_lines:\n",
    "        line = line.strip().split()\n",
    "        if line[4] != \"ack\" or line[2] != '2' or line[3] != '0':\n",
    "            continue\n",
    "        ack_seq.append([line[0], float(line[1]), int(line[10])])\n",
    "        \n",
    "    return ack_seq\n",
    "\n",
    "def load_tcp(path):\n",
    "    with open(path, 'r') as f:\n",
    "        file_lines = f.readlines()\n",
    "    tcp_seq=[]  #提取含字段 r 2 0的ack帧    \n",
    "    for line in file_lines:\n",
    "        line = line.strip().split()\n",
    "        if line[4] != \"tcp\" or line[2] != '0' or line[3] != '2':\n",
    "            continue\n",
    "        tcp_seq.append([line[0], float(line[1]), int(line[10])])\n",
    "        \n",
    "    return tcp_seq\n",
    "\n",
    "def load_cwd(path):\n",
    "    with open(path, 'r') as f:\n",
    "        file_lines = f.readlines()\n",
    "    cwd_seq=[]  #提取含字段 r 2 0的ack帧    \n",
    "    for line in file_lines:\n",
    "        line = line.strip().split()\n",
    "        if line[5] != \"cwnd_\":\n",
    "            continue\n",
    "        cwd_seq.append([float(line[0]), float(line[6])])\n",
    "        \n",
    "    return cwd_seq\n",
    "\n",
    "ack_seq = load_ack(file_path)\n",
    "tcp_seq = load_tcp(file_path)\n",
    "cwd_seq = load_cwd(file_path)\n",
    "cwd_seq[0:5]"
   ]
  },
  {
   "cell_type": "code",
   "execution_count": 64,
   "metadata": {},
   "outputs": [
    {
     "name": "stdout",
     "output_type": "stream",
     "text": [
      "83071 82558\n"
     ]
    }
   ],
   "source": [
    "def get_tcp_dequeue(tcp_seq):\n",
    "    tcp_dequeue_seq = []\n",
    "    for item in tcp_seq:\n",
    "        if item[0] != '+':\n",
    "            continue\n",
    "        tcp_dequeue_seq.append([item[1], item[2]])\n",
    "    return np.array(tcp_dequeue_seq)\n",
    "\n",
    "def get_ack_receive(ack_seq):\n",
    "    ack_receive_seq = []\n",
    "    for item in ack_seq:\n",
    "        if item[0] != 'r':\n",
    "            continue\n",
    "        ack_receive_seq.append([item[1], item[2]])\n",
    "    return np.array(ack_receive_seq)\n",
    "\n",
    "tcp_dequeue_seq = get_tcp_dequeue(tcp_seq)\n",
    "ack_receive_seq = get_ack_receive(ack_seq)\n",
    "print(len(tcp_dequeue_seq), len(ack_receive_seq))"
   ]
  },
  {
   "cell_type": "code",
   "execution_count": 72,
   "metadata": {},
   "outputs": [],
   "source": [
    "def draw_plot(data1, label1, data2=None, label2=None, plot_title=\"Plot\", save_fig=False):\n",
    "    fig = plt.figure(figsize=(16,6))\n",
    "    plt.plot(data1[:,0],data1[:,1],alpha=0.8,color='red',label=label1)\n",
    "    if data2 is not None:\n",
    "        plt.plot(data2[:,0],data2[:,1],alpha=0.8,color='blue',label=label2)\n",
    "    plt.title(plot_title)\n",
    "    plt.legend(loc='best')\n",
    "    plt.xlabel(\"time\")\n",
    "    plt.ylabel(\"sequence number\")\n",
    "    plt.show()\n",
    "    if save_fig:\n",
    "        plt.savefig(plot_title+'.png')\n"
   ]
  },
  {
   "cell_type": "code",
   "execution_count": 49,
   "metadata": {},
   "outputs": [],
   "source": [
    "def find_retr(cwd_seq, index_range=20):\n",
    "    retr_seq = []\n",
    "    pre = cwd_seq[0]\n",
    "    for i in range(len(cwd_seq)):\n",
    "        if pre[1] > cwd_seq[i][1]: #降窗\n",
    "            retr_seq.extend(cwd_seq[i-index_range:min(i+index_range, len(cwd_seq))])\n",
    "        pre = cwd_seq[i]\n",
    "    return  np.array(retr_seq)\n",
    "\n",
    "retr_seq = find_retr(cwd_seq)"
   ]
  },
  {
   "cell_type": "code",
   "execution_count": 73,
   "metadata": {},
   "outputs": [
    {
     "data": {
      "image/png": "[encoded data removed]",
      "text/plain": [
       "<Figure size 1152x432 with 1 Axes>"
      ]
     },
     "metadata": {
      "needs_background": "light"
     },
     "output_type": "display_data"
    }
   ],
   "source": [
    "draw_plot(tcp_dequeue_seq[0:20], \"tcp_seq\", ack_receive_seq[0:20], \"ack_seq\")"
   ]
  }
 ],
 "metadata": {
  "interpreter": {
   "hash": "96eb50e1d44aed467dc8f759cb08c32fbfa9babcf79c554e2d0e5feb04653a10"
  },
  "kernelspec": {
   "display_name": "Python 3.7.6 ('base')",
   "language": "python",
   "name": "python3"
  },
  "language_info": {
   "codemirror_mode": {
    "name": "ipython",
    "version": 3
   },
   "file_extension": ".py",
   "mimetype": "text/x-python",
   "name": "python",
   "nbconvert_exporter": "python",
   "pygments_lexer": "ipython3",
   "version": "3.7.6"
  },
  "orig_nbformat": 4
 },
 "nbformat": 4,
 "nbformat_minor": 2
}
